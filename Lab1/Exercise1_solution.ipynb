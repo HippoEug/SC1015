{
 "cells": [
  {
   "cell_type": "markdown",
   "id": "24c717da",
   "metadata": {},
   "source": [
    "# Problem 1"
   ]
  },
  {
   "cell_type": "markdown",
   "id": "e1cb3be8",
   "metadata": {},
   "source": [
    "### Importing Essential Libraries"
   ]
  },
  {
   "cell_type": "code",
   "execution_count": null,
   "id": "8ab155ec",
   "metadata": {},
   "outputs": [],
   "source": [
    "import numpy as np # Library for Numeric Computations in Python\n",
    "import pandas as pd # Library for Data Acquisition and Preparation"
   ]
  },
  {
   "cell_type": "markdown",
   "id": "ccba5204",
   "metadata": {},
   "source": [
    "### (a) Importing \"train.csv\" Data"
   ]
  },
  {
   "cell_type": "code",
   "execution_count": null,
   "id": "4f331354",
   "metadata": {},
   "outputs": [],
   "source": [
    "# train_data = pd.read_csv('train.csv', header = None)\n",
    "train_data = pd.read_csv('train.csv')\n",
    "# train_data.head()\n",
    "train_data"
   ]
  },
  {
   "cell_type": "markdown",
   "id": "a7efc319",
   "metadata": {},
   "source": [
    "### (b) Checking number of Rows & Variables"
   ]
  },
  {
   "cell_type": "code",
   "execution_count": null,
   "id": "4bea8c60",
   "metadata": {},
   "outputs": [],
   "source": [
    "print(\"Data Shape: \", train_data.shape)\n",
    "print(\"Number of Rows: \", len(train_data))\n",
    "print(\"Number of Columns: \", len(train_data.columns))"
   ]
  },
  {
   "cell_type": "markdown",
   "id": "e6164c24",
   "metadata": {},
   "source": [
    "### (c) Checking Data Types (Numeric/Categorical)"
   ]
  },
  {
   "cell_type": "code",
   "execution_count": null,
   "id": "2e75b2f7",
   "metadata": {
    "scrolled": true
   },
   "outputs": [],
   "source": [
    "# print(train_data.dtypes)\n",
    "train_data.dtypes"
   ]
  },
  {
   "cell_type": "code",
   "execution_count": null,
   "id": "d5f803ab",
   "metadata": {
    "scrolled": true
   },
   "outputs": [],
   "source": [
    "print(train_data.columns)"
   ]
  },
  {
   "cell_type": "markdown",
   "id": "de706f65",
   "metadata": {},
   "source": [
    "### (d) .info() Method"
   ]
  },
  {
   "cell_type": "code",
   "execution_count": null,
   "id": "c93c2aa8",
   "metadata": {},
   "outputs": [],
   "source": [
    "# print(train_data.info())\n",
    "train_data.info()"
   ]
  },
  {
   "cell_type": "markdown",
   "id": "099d00f3",
   "metadata": {},
   "source": [
    "### (e) .describe() Method"
   ]
  },
  {
   "cell_type": "code",
   "execution_count": null,
   "id": "ebb1f91b",
   "metadata": {},
   "outputs": [],
   "source": [
    "# print(train_data.describe())\n",
    "train_data.describe()"
   ]
  },
  {
   "cell_type": "markdown",
   "id": "24e4d212",
   "metadata": {},
   "source": [
    "# Problem 2"
   ]
  },
  {
   "cell_type": "markdown",
   "id": "3ac73d50",
   "metadata": {},
   "source": [
    "### Importing Essential Libraries"
   ]
  },
  {
   "cell_type": "code",
   "execution_count": null,
   "id": "22c0d30e",
   "metadata": {},
   "outputs": [],
   "source": [
    "import numpy as np # Library for Numeric Computations in Python\n",
    "import pandas as pd # Library for Data Acquisition and Preparation\n",
    "import seaborn as sb # Higher-level library for Data Visualization\n",
    "# import matplotlib as mp # Low-level library for Data Visualization\n",
    "\n",
    "import matplotlib.pyplot as plt # we only need pyplot\n",
    "# sb.set() # set the default Seaborn style for graphics"
   ]
  },
  {
   "cell_type": "markdown",
   "id": "8225074c",
   "metadata": {},
   "source": [
    "### (a) Importing Wikipedia HTML Data"
   ]
  },
  {
   "cell_type": "code",
   "execution_count": null,
   "id": "578b0f8c",
   "metadata": {},
   "outputs": [],
   "source": [
    "olympic_data = pd.read_html('https://en.wikipedia.org/wiki/2016_Summer_Olympics_medal_table')"
   ]
  },
  {
   "cell_type": "markdown",
   "id": "738af6ff",
   "metadata": {},
   "source": [
    "### (b) Checking number of Tables"
   ]
  },
  {
   "cell_type": "code",
   "execution_count": null,
   "id": "88cbc472",
   "metadata": {},
   "outputs": [],
   "source": [
    "# print(\"Data Type: \", type(olympic_data))\n",
    "print(\"Data Number of Tables: \", len(olympic_data))"
   ]
  },
  {
   "cell_type": "markdown",
   "id": "21185a17",
   "metadata": {},
   "source": [
    "### (c) Finding Actual Medal Table"
   ]
  },
  {
   "cell_type": "code",
   "execution_count": null,
   "id": "a1628a8d",
   "metadata": {},
   "outputs": [],
   "source": [
    "olympic_data[0].head()"
   ]
  },
  {
   "cell_type": "code",
   "execution_count": null,
   "id": "105fbf54",
   "metadata": {},
   "outputs": [],
   "source": [
    "olympic_data[1].head()"
   ]
  },
  {
   "cell_type": "code",
   "execution_count": null,
   "id": "6e9fa605",
   "metadata": {},
   "outputs": [],
   "source": [
    "olympic_data[2].head()"
   ]
  },
  {
   "cell_type": "markdown",
   "id": "3d3fe862",
   "metadata": {},
   "source": [
    "### (d) Extracting Medal Table as New Pandas DataFrame"
   ]
  },
  {
   "cell_type": "code",
   "execution_count": null,
   "id": "24283d32",
   "metadata": {},
   "outputs": [],
   "source": [
    "medal_table = pd.DataFrame(olympic_data[2][:86])\n",
    "# medal_table.head()\n",
    "medal_table"
   ]
  },
  {
   "cell_type": "markdown",
   "id": "2818b3d4",
   "metadata": {},
   "source": [
    "### (e) Extracting Top 20 Countries from Medal Table as New DataFrame"
   ]
  },
  {
   "cell_type": "code",
   "execution_count": null,
   "id": "79bae697",
   "metadata": {},
   "outputs": [],
   "source": [
    "top_countries = pd.DataFrame(medal_table['NOC'])\n",
    "top_countries.head(n=20)"
   ]
  },
  {
   "cell_type": "code",
   "execution_count": null,
   "id": "8084e9e1",
   "metadata": {},
   "outputs": [],
   "source": []
  }
 ],
 "metadata": {
  "kernelspec": {
   "display_name": "Python 3 (ipykernel)",
   "language": "python",
   "name": "python3"
  },
  "language_info": {
   "codemirror_mode": {
    "name": "ipython",
    "version": 3
   },
   "file_extension": ".py",
   "mimetype": "text/x-python",
   "name": "python",
   "nbconvert_exporter": "python",
   "pygments_lexer": "ipython3",
   "version": "3.9.9"
  }
 },
 "nbformat": 4,
 "nbformat_minor": 5
}
