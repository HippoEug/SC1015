{
 "cells": [
  {
   "cell_type": "markdown",
   "id": "8dadaeb9",
   "metadata": {},
   "source": [
    "# Bonus A"
   ]
  },
  {
   "cell_type": "markdown",
   "id": "f9f3bb62",
   "metadata": {},
   "source": [
    "### Importing Essential Libraries"
   ]
  },
  {
   "cell_type": "code",
   "execution_count": null,
   "id": "cc67e9b5",
   "metadata": {},
   "outputs": [],
   "source": [
    "import numpy as np # Library for Numeric Computations in Python\n",
    "import pandas as pd # Library for Data Acquisition and Preparation\n",
    "import seaborn as sb # Higher-level library for Data Visualization\n",
    "# import matplotlib as mp # Low-level library for Data Visualization\n",
    "\n",
    "import matplotlib.pyplot as plt # we only need pyplot\n",
    "# sb.set() # set the default Seaborn style for graphics"
   ]
  },
  {
   "cell_type": "markdown",
   "id": "13ce50ab",
   "metadata": {},
   "source": [
    "### Importing Census Income CSV Dataset"
   ]
  },
  {
   "cell_type": "code",
   "execution_count": null,
   "id": "5d098980",
   "metadata": {},
   "outputs": [],
   "source": [
    "income_data = pd.read_csv('https://archive.ics.uci.edu/ml/machine-learning-databases/adult/adult.data', names=[\"Age\", \"Work Class\", \"fntwgt\", \"Education\", \"Education-num\", \"Marital Status\",  \"Occupation\", \"Relationship\", \"Race\",  \"Sex\", \"Capital Gain\", \"Capital Loss\", \"Hours per Week\", \"Native Country\",\"Income\"])"
   ]
  },
  {
   "cell_type": "code",
   "execution_count": null,
   "id": "c015c4a3",
   "metadata": {},
   "outputs": [],
   "source": [
    "print(\"Data Number of Tables: \", len(income_data))\n",
    "income_data"
   ]
  },
  {
   "cell_type": "code",
   "execution_count": null,
   "id": "e06e54d6",
   "metadata": {},
   "outputs": [],
   "source": [
    "print(\"Data Shape: \", income_data.shape)"
   ]
  },
  {
   "cell_type": "code",
   "execution_count": null,
   "id": "a2e46047",
   "metadata": {},
   "outputs": [],
   "source": [
    "print(income_data.info())"
   ]
  },
  {
   "cell_type": "code",
   "execution_count": null,
   "id": "8f7ebc7d",
   "metadata": {
    "scrolled": true
   },
   "outputs": [],
   "source": [
    "# print(income_data.describe())\n",
    "income_data.describe()"
   ]
  },
  {
   "cell_type": "markdown",
   "id": "29ab730e",
   "metadata": {},
   "source": [
    "# Bonus B"
   ]
  },
  {
   "cell_type": "markdown",
   "id": "d1c8445d",
   "metadata": {},
   "source": [
    "### Importing Essential Libraries"
   ]
  },
  {
   "cell_type": "code",
   "execution_count": null,
   "id": "a4b55ba6",
   "metadata": {},
   "outputs": [],
   "source": [
    "import numpy as np # Library for Numeric Computations in Python\n",
    "import pandas as pd # Library for Data Acquisition and Preparation\n",
    "import seaborn as sb # Higher-level library for Data Visualization\n",
    "# import matplotlib as mp # Low-level library for Data Visualization\n",
    "\n",
    "import matplotlib.pyplot as plt # we only need pyplot\n",
    "# sb.set() # set the default Seaborn style for graphics"
   ]
  },
  {
   "cell_type": "markdown",
   "id": "8608b5f2",
   "metadata": {},
   "source": [
    "### Importing Olympic 2000 to 2016 HTML Data"
   ]
  },
  {
   "cell_type": "code",
   "execution_count": null,
   "id": "f53b1319",
   "metadata": {},
   "outputs": [],
   "source": [
    "for years in range(2000, 2017, 4):\n",
    "    data_link = 'https://en.wikipedia.org/wiki/'+ str(years) + '_Summer_Olympics_medal_table'\n",
    "    olympic_data = pd.read_html(data_link)\n",
    "    \n",
    "    medal_table = pd.DataFrame(olympic_data[2][:86])\n",
    "    print(years)\n",
    "    display(medal_table.head(20))"
   ]
  }
 ],
 "metadata": {
  "kernelspec": {
   "display_name": "Python 3 (ipykernel)",
   "language": "python",
   "name": "python3"
  },
  "language_info": {
   "codemirror_mode": {
    "name": "ipython",
    "version": 3
   },
   "file_extension": ".py",
   "mimetype": "text/x-python",
   "name": "python",
   "nbconvert_exporter": "python",
   "pygments_lexer": "ipython3",
   "version": "3.9.9"
  }
 },
 "nbformat": 4,
 "nbformat_minor": 5
}
